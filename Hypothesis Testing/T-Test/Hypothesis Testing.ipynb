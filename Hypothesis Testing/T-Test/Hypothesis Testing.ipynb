{
 "cells": [
  {
   "cell_type": "code",
   "execution_count": 4,
   "id": "349c69b0-305c-4693-96c3-ca18acceaeb1",
   "metadata": {},
   "outputs": [
    {
     "name": "stdout",
     "output_type": "stream",
     "text": [
      "Z-statistic: -5.48\n",
      "P-value: 0.0000\n",
      "Reject the null hypothesis: The medicine significantly reduces pain levels.\n"
     ]
    }
   ],
   "source": [
    "#This sample code may help you to understand the concept programmatically.\n",
    " \n",
    "import scipy.stats as stats\n",
    " \n",
    "# Known population parameters\n",
    "mu_before = 6           # Mean pain level before medicine\n",
    "sigma = 1.5             # Population standard deviation\n",
    " \n",
    "# Sample data\n",
    "x_after = 4.5           # Mean pain level after medicine\n",
    "n = 30                  # Sample size\n",
    " \n",
    "# Standard error of the mean\n",
    "sem = sigma / (n ** 0.5)\n",
    " \n",
    "# Calculate the Z-statistic\n",
    "z_statistic = (x_after - mu_before) / sem\n",
    "print(f\"Z-statistic: {z_statistic:.2f}\")\n",
    " \n",
    "# Calculate the one-tailed p-value\n",
    "p_value = stats.norm.sf(abs(z_statistic))\n",
    "print(f\"P-value: {p_value:.4f}\")\n",
    " \n",
    "# Decision-making\n",
    "alpha = 0.05  # Significance level\n",
    "if p_value < alpha:\n",
    "    print(\"Reject the null hypothesis: The medicine significantly reduces pain levels.\")\n",
    "else:\n",
    "    print(\"Fail to reject the null hypothesis: The results might be due to chance.\")\n",
    "\n",
    "\n",
    " "
   ]
  },
  {
   "cell_type": "markdown",
   "id": "27bf0135-af1e-4bba-b69d-57e58880ed14",
   "metadata": {},
   "source": [
    "## Two-Tailed Test"
   ]
  },
  {
   "cell_type": "code",
   "execution_count": 2,
   "id": "d94a1994-ed62-4921-90e0-d80eb69211ff",
   "metadata": {},
   "outputs": [
    {
     "name": "stdout",
     "output_type": "stream",
     "text": [
      "T-statistic: 2.12\n",
      "P-value: 0.0525\n",
      "Fail to reject the null hypothesis: There is no significant difference between the groups.\n"
     ]
    },
    {
     "name": "stderr",
     "output_type": "stream",
     "text": [
      "C:\\Users\\arulr\\AppData\\Local\\Temp\\ipykernel_19600\\3509057794.py:10: DeprecationWarning: Please import `ttest_ind` from the `scipy.stats` namespace; the `scipy.stats.stats` namespace is deprecated and will be removed in SciPy 2.0.0.\n",
      "  t_stat, p_value = stats.ttest_ind(group_a, group_b)\n"
     ]
    }
   ],
   "source": [
    "# Step 1: Import necessary libraries\n",
    "import numpy as np\n",
    "from scipy.stats import stats\n",
    "\n",
    "# Step 2: Data for the two groups\n",
    "group_a = [7, 7, 6, 7, 8, 7, 8, 7]  # Unvaccinated group\n",
    "group_b = [6, 7, 6, 7, 7, 6, 6, 7]  # Vaccinated group\n",
    "\n",
    "# Step 3: Perform the independent T-test\n",
    "t_stat, p_value = stats.ttest_ind(group_a, group_b) # two-tailed test; You don’t care which one is higher — just that they’re not equal.\n",
    "\n",
    "# Step 4: Print results\n",
    "print(f\"T-statistic: {t_stat:.2f}\")\n",
    "print(f\"P-value: {p_value:.4f}\")\n",
    "\n",
    "# Step 5: Interpret the results\n",
    "alpha = 0.05 # Significance level\n",
    "if p_value < alpha:\n",
    "    print(\"Reject the null hypothesis: There is a significant difference between the groups.\")\n",
    "else:\n",
    "    print(\"Fail to reject the null hypothesis: There is no significant difference between the groups.\")\n"
   ]
  },
  {
   "cell_type": "markdown",
   "id": "7a1dade6-81be-4f11-8b11-9c3b5b92e227",
   "metadata": {},
   "source": [
    "## One-Tailed Test"
   ]
  },
  {
   "cell_type": "code",
   "execution_count": 8,
   "id": "51b4cc31-78b7-47ad-ae87-205774b02632",
   "metadata": {},
   "outputs": [
    {
     "name": "stderr",
     "output_type": "stream",
     "text": [
      "C:\\Users\\arulr\\AppData\\Local\\Temp\\ipykernel_19600\\4000662679.py:12: DeprecationWarning: Please import `ttest_ind` from the `scipy.stats` namespace; the `scipy.stats.stats` namespace is deprecated and will be removed in SciPy 2.0.0.\n",
      "  t_stat, p_value = stats.ttest_ind(group_a, group_b, alternative='greater')\n"
     ]
    },
    {
     "name": "stdout",
     "output_type": "stream",
     "text": [
      "T-statistic: 2.12\n",
      "P-value: 0.0263\n",
      "Reject the null hypothesis: There is a significant difference between the groups.\n"
     ]
    }
   ],
   "source": [
    "# Step 1: Import necessary libraries\n",
    "import numpy as np\n",
    "from scipy.stats import stats\n",
    "\n",
    "# Step 2: Data for the two groups\n",
    "group_a = [7, 7, 6, 7, 8, 7, 8, 7]  # Unvaccinated group\n",
    "group_b = [6, 7, 6, 7, 7, 6, 6, 7]  # Vaccinated group\n",
    "\n",
    "# Step 3: Perform the independent T-test\n",
    "#There are two options:'greater' = Is group A > group B?, 'less' = Is group A < group B?\n",
    "#Is the unvaccinated group (A) having worse symptoms than the vaccinated group (B)? This means you're testing if group A > group B.\n",
    "t_stat, p_value = stats.ttest_ind(group_a, group_b, alternative='greater')\n",
    "\n",
    "# Step 4: Print results\n",
    "print(f\"T-statistic: {t_stat:.2f}\")\n",
    "print(f\"P-value: {p_value:.4f}\")\n",
    "\n",
    "# Step 5: Interpret the results\n",
    "alpha = 0.05 # Significance level\n",
    "if p_value < alpha:\n",
    "    print(\"Reject the null hypothesis: There is a significant difference between the groups.\")\n",
    "else:\n",
    "    print(\"Fail to reject the null hypothesis: There is no significant difference between the groups.\")"
   ]
  },
  {
   "cell_type": "markdown",
   "id": "57e71ab9-e12f-44b2-9274-61fab78022bd",
   "metadata": {},
   "source": [
    "## 🎯 Why Do One-Tailed and Two-Tailed Tests Give Different P-Values?\n",
    "#### 📌 Because they ask different questions!\n",
    "✅ Two-Tailed Test asks:\n",
    "“Is there any difference between the groups?”\n",
    "\n",
    "This includes:\n",
    "Maybe Group A is higher\n",
    "Maybe Group B is higher\n",
    "It checks both directions.\n",
    "\n",
    "✅ One-Tailed Test asks:\n",
    "“Is Group A higher than Group B?”\n",
    "It checks only one direction — the one you're interested in.\n",
    "🎯 The \"surprise zone\" is now all on one side:"
   ]
  },
  {
   "cell_type": "markdown",
   "id": "0cb336e5-135f-4c95-84a0-192991fe8e41",
   "metadata": {},
   "source": [
    "What is a One-Tailed Test?\n",
    "Since the question expects one specific direction (Group B less than Group A), we use a one-tailed test. We only check if Group B’s scores are significantly lower, not higher.\n",
    "\n",
    "What About the T-statistic Sign and Group Order?\n",
    "If you do the test as ttest_ind(group_b, group_a, alternative='less'), you’re directly asking:\n",
    "\n",
    "Is vaccinated (B) < unvaccinated (A)?\n",
    "\n",
    "Here, the t-statistic should be negative if the vaccine lowers symptoms.\n",
    "\n",
    "But if you flip groups and do ttest_ind(group_a, group_b, alternative='greater'), you ask:\n",
    "\n",
    "Is unvaccinated (A) > vaccinated (B)?\n",
    "\n",
    "The t-statistic here will be positive if the vaccine lowers symptoms.\n",
    "\n",
    "Both ways test the same thing; only the sign of the t-statistic changes based on group order.\n",
    "\n",
    "Why Does the p-value Matter?\n",
    "The p-value tells us how likely it is to get results this extreme if the vaccine had no effect.\n",
    "\n",
    "If p-value is small (usually < 0.05), we say the vaccine significantly reduces symptoms.\n",
    "\n",
    "For one-tailed tests, p-value is half of the two-tailed test p-value (because we only look in one direction)."
   ]
  },
  {
   "cell_type": "code",
   "execution_count": null,
   "id": "e8a35f76-56a4-434f-bd07-8db1d99763a8",
   "metadata": {},
   "outputs": [],
   "source": []
  }
 ],
 "metadata": {
  "kernelspec": {
   "display_name": "Python [conda env:base] *",
   "language": "python",
   "name": "conda-base-py"
  },
  "language_info": {
   "codemirror_mode": {
    "name": "ipython",
    "version": 3
   },
   "file_extension": ".py",
   "mimetype": "text/x-python",
   "name": "python",
   "nbconvert_exporter": "python",
   "pygments_lexer": "ipython3",
   "version": "3.12.7"
  }
 },
 "nbformat": 4,
 "nbformat_minor": 5
}
