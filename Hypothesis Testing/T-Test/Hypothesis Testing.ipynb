{
 "cells": [
  {
   "cell_type": "code",
   "execution_count": 4,
   "id": "349c69b0-305c-4693-96c3-ca18acceaeb1",
   "metadata": {},
   "outputs": [
    {
     "name": "stdout",
     "output_type": "stream",
     "text": [
      "Z-statistic: -5.48\n",
      "P-value: 0.0000\n",
      "Reject the null hypothesis: The medicine significantly reduces pain levels.\n"
     ]
    }
   ],
   "source": [
    "#This sample code may help you to understand the concept programmatically.\n",
    " \n",
    "import scipy.stats as stats\n",
    " \n",
    "# Known population parameters\n",
    "mu_before = 6           # Mean pain level before medicine\n",
    "sigma = 1.5             # Population standard deviation\n",
    " \n",
    "# Sample data\n",
    "x_after = 4.5           # Mean pain level after medicine\n",
    "n = 30                  # Sample size\n",
    " \n",
    "# Standard error of the mean\n",
    "sem = sigma / (n ** 0.5)\n",
    " \n",
    "# Calculate the Z-statistic\n",
    "z_statistic = (x_after - mu_before) / sem\n",
    "print(f\"Z-statistic: {z_statistic:.2f}\")\n",
    " \n",
    "# Calculate the one-tailed p-value\n",
    "p_value = stats.norm.sf(abs(z_statistic))\n",
    "print(f\"P-value: {p_value:.4f}\")\n",
    " \n",
    "# Decision-making\n",
    "alpha = 0.05  # Significance level\n",
    "if p_value < alpha:\n",
    "    print(\"Reject the null hypothesis: The medicine significantly reduces pain levels.\")\n",
    "else:\n",
    "    print(\"Fail to reject the null hypothesis: The results might be due to chance.\")\n",
    "\n",
    "\n",
    " "
   ]
  },
  {
   "cell_type": "code",
   "execution_count": null,
   "id": "d94a1994-ed62-4921-90e0-d80eb69211ff",
   "metadata": {},
   "outputs": [],
   "source": [
    "# Step 1: Import necessary libraries\n",
    "import numpy as np\n",
    "from scipy.stats import _____\n",
    "\n",
    "# Step 2: Data for the two groups\n",
    "group_a = [7, 7, 6, 7, 8, 7, 8, 7]  # Unvaccinated group\n",
    "group_b = [6, 7, 6, 7, 7, 6, 6, 7]  # Vaccinated group\n",
    "\n",
    "# Step 3: Perform the independent T-test\n",
    "t_stat, p_value = _____\n",
    "\n",
    "# Step 4: Print results\n",
    "print(f\"T-statistic: {t_stat:.2f}\")\n",
    "print(f\"P-value: {p_value:.4f}\")\n",
    "\n",
    "# Step 5: Interpret the results\n",
    "alpha = _____  # Significance level\n",
    "if p_value < alpha:\n",
    "    print(_____)\n",
    "else:\n",
    "    print(_____)\n"
   ]
  }
 ],
 "metadata": {
  "kernelspec": {
   "display_name": "Python [conda env:base] *",
   "language": "python",
   "name": "conda-base-py"
  },
  "language_info": {
   "codemirror_mode": {
    "name": "ipython",
    "version": 3
   },
   "file_extension": ".py",
   "mimetype": "text/x-python",
   "name": "python",
   "nbconvert_exporter": "python",
   "pygments_lexer": "ipython3",
   "version": "3.12.7"
  }
 },
 "nbformat": 4,
 "nbformat_minor": 5
}
