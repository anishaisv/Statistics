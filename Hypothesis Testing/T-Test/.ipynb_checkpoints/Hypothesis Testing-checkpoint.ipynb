{
 "cells": [
  {
   "cell_type": "code",
   "execution_count": 4,
   "id": "349c69b0-305c-4693-96c3-ca18acceaeb1",
   "metadata": {},
   "outputs": [
    {
     "name": "stdout",
     "output_type": "stream",
     "text": [
      "Z-statistic: -5.48\n",
      "P-value: 0.0000\n",
      "Reject the null hypothesis: The medicine significantly reduces pain levels.\n"
     ]
    }
   ],
   "source": [
    "#This sample code may help you to understand the concept programmatically.\n",
    " \n",
    "import scipy.stats as stats\n",
    " \n",
    "# Known population parameters\n",
    "mu_before = 6           # Mean pain level before medicine\n",
    "sigma = 1.5             # Population standard deviation\n",
    " \n",
    "# Sample data\n",
    "x_after = 4.5           # Mean pain level after medicine\n",
    "n = 30                  # Sample size\n",
    " \n",
    "# Standard error of the mean\n",
    "sem = sigma / (n ** 0.5)\n",
    " \n",
    "# Calculate the Z-statistic\n",
    "z_statistic = (x_after - mu_before) / sem\n",
    "print(f\"Z-statistic: {z_statistic:.2f}\")\n",
    " \n",
    "# Calculate the one-tailed p-value\n",
    "p_value = stats.norm.sf(abs(z_statistic))\n",
    "print(f\"P-value: {p_value:.4f}\")\n",
    " \n",
    "# Decision-making\n",
    "alpha = 0.05  # Significance level\n",
    "if p_value < alpha:\n",
    "    print(\"Reject the null hypothesis: The medicine significantly reduces pain levels.\")\n",
    "else:\n",
    "    print(\"Fail to reject the null hypothesis: The results might be due to chance.\")\n",
    "\n",
    "\n",
    " "
   ]
  },
  {
   "cell_type": "code",
   "execution_count": 2,
   "id": "d94a1994-ed62-4921-90e0-d80eb69211ff",
   "metadata": {},
   "outputs": [
    {
     "name": "stdout",
     "output_type": "stream",
     "text": [
      "T-statistic: 2.12\n",
      "P-value: 0.0525\n",
      "Fail to reject the null hypothesis: There is no significant difference between the groups.\n"
     ]
    },
    {
     "name": "stderr",
     "output_type": "stream",
     "text": [
      "C:\\Users\\arulr\\AppData\\Local\\Temp\\ipykernel_19600\\3509057794.py:10: DeprecationWarning: Please import `ttest_ind` from the `scipy.stats` namespace; the `scipy.stats.stats` namespace is deprecated and will be removed in SciPy 2.0.0.\n",
      "  t_stat, p_value = stats.ttest_ind(group_a, group_b)\n"
     ]
    }
   ],
   "source": [
    "# Step 1: Import necessary libraries\n",
    "import numpy as np\n",
    "from scipy.stats import stats\n",
    "\n",
    "# Step 2: Data for the two groups\n",
    "group_a = [7, 7, 6, 7, 8, 7, 8, 7]  # Unvaccinated group\n",
    "group_b = [6, 7, 6, 7, 7, 6, 6, 7]  # Vaccinated group\n",
    "\n",
    "# Step 3: Perform the independent T-test\n",
    "t_stat, p_value = stats.ttest_ind(group_a, group_b)\n",
    "\n",
    "# Step 4: Print results\n",
    "print(f\"T-statistic: {t_stat:.2f}\")\n",
    "print(f\"P-value: {p_value:.4f}\")\n",
    "\n",
    "# Step 5: Interpret the results\n",
    "alpha = 0.05 # Significance level\n",
    "if p_value < alpha:\n",
    "    print(\"Reject the null hypothesis: There is a significant difference between the groups.\")\n",
    "else:\n",
    "    print(\"Fail to reject the null hypothesis: There is no significant difference between the groups.\")\n"
   ]
  },
  {
   "cell_type": "code",
   "execution_count": null,
   "id": "94e757a5-f9e8-44e2-ab95-c91fef004c7f",
   "metadata": {},
   "outputs": [],
   "source": []
  }
 ],
 "metadata": {
  "kernelspec": {
   "display_name": "Python [conda env:base] *",
   "language": "python",
   "name": "conda-base-py"
  },
  "language_info": {
   "codemirror_mode": {
    "name": "ipython",
    "version": 3
   },
   "file_extension": ".py",
   "mimetype": "text/x-python",
   "name": "python",
   "nbconvert_exporter": "python",
   "pygments_lexer": "ipython3",
   "version": "3.12.7"
  }
 },
 "nbformat": 4,
 "nbformat_minor": 5
}
