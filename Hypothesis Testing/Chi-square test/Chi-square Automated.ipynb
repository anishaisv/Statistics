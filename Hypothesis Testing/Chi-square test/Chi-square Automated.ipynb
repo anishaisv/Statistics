{
 "cells": [
  {
   "cell_type": "markdown",
   "id": "1505c6f1-138e-46bc-be3e-82b891de7fc7",
   "metadata": {},
   "source": [
    "### Chi-Square Test for Independence — Product Preference vs Gender\n",
    "Automated Chi-square method"
   ]
  },
  {
   "cell_type": "code",
   "execution_count": 6,
   "id": "2bd86cd2-e0e3-483a-9837-dffafa8b2d6b",
   "metadata": {},
   "outputs": [],
   "source": [
    "# %load test2.py\n",
    "# Step 1: Import necessary libraries\n",
    "import pandas as pd\n",
    "import numpy as np\n",
    "from scipy.stats import chi2_contingency # chi2_contingency does the Chi-Square test for us."
   ]
  },
  {
   "cell_type": "code",
   "execution_count": 8,
   "id": "b96cf18f-ee53-4061-b89e-abafbd07ce11",
   "metadata": {},
   "outputs": [],
   "source": [
    "# Step 2: Load the dataset\n",
    "df = pd.read_csv(\"product.csv\")  # Ensure the CSV file is in the correct directory\n",
    "\n",
    "# Step 3: Create a contingency table\n",
    "contingency_table = pd.crosstab(df[\"Gender\"], df[\"Preferred Product\"])"
   ]
  },
  {
   "cell_type": "code",
   "execution_count": 10,
   "id": "f876ec7e-a6a4-4e78-8340-afa773f11b3c",
   "metadata": {},
   "outputs": [],
   "source": [
    "# Step 4: Perform the Chi-Square Test automatically (without Yates' correction)\n",
    "chi2_stat, p_value, dof, expected = chi2_contingency(contingency_table, correction=False)\n",
    "\n",
    "#contingency_table: A 2D array (list of lists or NumPy array) representing a contingency table, which shows the frequency distribution of variables.\n",
    "#correction=False: This disables Yates’ continuity correction, which is usually applied for 2x2 tables to make the Chi-Square test more conservative.\n",
    "#This function gives us four things:\n",
    "#chi2_stat: The test statistic (how different observed and expected values are).\n",
    "#p_value: The probability that this difference is just by chance.\n",
    "#dof: Degrees of freedom (used in the calculation).\n",
    "#expected: A table showing what the numbers would look like if gender didn’t affect product preference."
   ]
  },
  {
   "cell_type": "code",
   "execution_count": 12,
   "id": "d03c4267-d989-43a1-97de-bc1b882de8f2",
   "metadata": {},
   "outputs": [
    {
     "name": "stdout",
     "output_type": "stream",
     "text": [
      "Observed Frequency Table:\n",
      "Preferred Product  Product A  Product B\n",
      "Gender                                 \n",
      "Female                     2          4\n",
      "Male                       4          2\n",
      "\n",
      "Expected Frequencies (Calculated Automatically):\n",
      "Preferred Product  Product A  Product B\n",
      "Gender                                 \n",
      "Female                   3.0        3.0\n",
      "Male                     3.0        3.0\n",
      "\n",
      "Chi-square Statistic: 1.33\n",
      "P-value: 0.2482\n",
      "Degrees of Freedom: 1\n"
     ]
    }
   ],
   "source": [
    "# Step 5: Display observed and expected frequencies\n",
    "print(\"Observed Frequency Table:\")\n",
    "print(contingency_table)\n",
    "\n",
    "print(\"\\nExpected Frequencies (Calculated Automatically):\")\n",
    "expected_df = pd.DataFrame(expected, columns=contingency_table.columns, index=contingency_table.index)\n",
    "print(expected_df)\n",
    "\n",
    "# Step 6: Display test statistics\n",
    "print(\"\\nChi-square Statistic:\", round(chi2_stat, 2))\n",
    "print(\"P-value:\", round(p_value, 4))\n",
    "print(\"Degrees of Freedom:\", dof)"
   ]
  },
  {
   "cell_type": "code",
   "execution_count": 14,
   "id": "c0acf84e-3d6f-4471-9400-d5e0a5e3cd87",
   "metadata": {},
   "outputs": [
    {
     "name": "stdout",
     "output_type": "stream",
     "text": [
      "\n",
      "We fail to reject the null hypothesis. Gender does not significantly influence product preference.\n"
     ]
    }
   ],
   "source": [
    "# Step 7: Interpretation\n",
    "#alpha = 0.05 means you're okay with a 5% chance of making a wrong decision.\n",
    "#If p-value < 0.05, the result is significant → gender does influence product choice.\n",
    "#If p-value ≥ 0.05, the result is not significant → gender does not seem to influence product choice.\n",
    "    \n",
    "alpha = 0.05\n",
    "if p_value < alpha:\n",
    "    print(\"\\nWe reject the null hypothesis. Gender influences product preference.\")\n",
    "else:\n",
    "    print(\"\\nWe fail to reject the null hypothesis. Gender does not significantly influence product preference.\")\n",
    "    \n",
    "#A small p-value (typically < 0.05) suggests rejecting the null hypothesis, meaning there is a statistically significant association between the variables.\n",
    "#A large p-value indicates no significant association."
   ]
  },
  {
   "cell_type": "code",
   "execution_count": null,
   "id": "68f9bd49-d1ce-4c83-8f58-2595c8daa1df",
   "metadata": {},
   "outputs": [],
   "source": []
  }
 ],
 "metadata": {
  "kernelspec": {
   "display_name": "Python [conda env:base] *",
   "language": "python",
   "name": "conda-base-py"
  },
  "language_info": {
   "codemirror_mode": {
    "name": "ipython",
    "version": 3
   },
   "file_extension": ".py",
   "mimetype": "text/x-python",
   "name": "python",
   "nbconvert_exporter": "python",
   "pygments_lexer": "ipython3",
   "version": "3.12.7"
  }
 },
 "nbformat": 4,
 "nbformat_minor": 5
}
