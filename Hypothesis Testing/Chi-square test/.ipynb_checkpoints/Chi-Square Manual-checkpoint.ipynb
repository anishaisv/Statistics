{
 "cells": [
  {
   "cell_type": "markdown",
   "id": "4957879a-aeff-450d-af7a-b77ab8598b31",
   "metadata": {},
   "source": [
    "🧪 Chi-Square Test for Independence: Gender vs Product Preference\n",
    "This project explores whether there is a relationship between a customer's gender and their preferred product (Product A or B) using a statistical method called the Chi-Square Test for Independence.\n",
    "________________________________________\n",
    "📌 Objective\n",
    "To determine if product preference depends on gender. If a significant relationship is found, it can help businesses improve their marketing strategies by targeting the right audience more effectively.\n",
    "________________________________________\n",
    "📁 Dataset Description\n",
    "The dataset includes:\n",
    "•\tGender: The gender of the customer (Male or Female)\n",
    "•\tPreferred Product: The product they chose (Product A or Product B)\n",
    "There are 12 customers in the sample.\n"
   ]
  },
  {
   "cell_type": "code",
   "execution_count": 5,
   "id": "1ad20880-9d98-45aa-a6d1-38ef00761ffe",
   "metadata": {},
   "outputs": [],
   "source": [
    "# %load test1.py\n",
    "# Step 1: Import necessary libraries\n",
    "import pandas as pd\n",
    "import numpy as np\n",
    "from scipy.stats import chi2"
   ]
  },
  {
   "cell_type": "code",
   "execution_count": 13,
   "id": "4d915a41-bd57-4301-8314-eeea712bbc5c",
   "metadata": {},
   "outputs": [
    {
     "data": {
      "text/html": [
       "<div>\n",
       "<style scoped>\n",
       "    .dataframe tbody tr th:only-of-type {\n",
       "        vertical-align: middle;\n",
       "    }\n",
       "\n",
       "    .dataframe tbody tr th {\n",
       "        vertical-align: top;\n",
       "    }\n",
       "\n",
       "    .dataframe thead th {\n",
       "        text-align: right;\n",
       "    }\n",
       "</style>\n",
       "<table border=\"1\" class=\"dataframe\">\n",
       "  <thead>\n",
       "    <tr style=\"text-align: right;\">\n",
       "      <th></th>\n",
       "      <th>Customer ID</th>\n",
       "      <th>Gender</th>\n",
       "      <th>Preferred Product</th>\n",
       "    </tr>\n",
       "  </thead>\n",
       "  <tbody>\n",
       "    <tr>\n",
       "      <th>0</th>\n",
       "      <td>1</td>\n",
       "      <td>Male</td>\n",
       "      <td>Product A</td>\n",
       "    </tr>\n",
       "    <tr>\n",
       "      <th>1</th>\n",
       "      <td>2</td>\n",
       "      <td>Male</td>\n",
       "      <td>Product A</td>\n",
       "    </tr>\n",
       "    <tr>\n",
       "      <th>2</th>\n",
       "      <td>3</td>\n",
       "      <td>Male</td>\n",
       "      <td>Product B</td>\n",
       "    </tr>\n",
       "    <tr>\n",
       "      <th>3</th>\n",
       "      <td>4</td>\n",
       "      <td>Male</td>\n",
       "      <td>Product A</td>\n",
       "    </tr>\n",
       "    <tr>\n",
       "      <th>4</th>\n",
       "      <td>5</td>\n",
       "      <td>Male</td>\n",
       "      <td>Product B</td>\n",
       "    </tr>\n",
       "  </tbody>\n",
       "</table>\n",
       "</div>"
      ],
      "text/plain": [
       "   Customer ID Gender Preferred Product\n",
       "0            1   Male         Product A\n",
       "1            2   Male         Product A\n",
       "2            3   Male         Product B\n",
       "3            4   Male         Product A\n",
       "4            5   Male         Product B"
      ]
     },
     "execution_count": 13,
     "metadata": {},
     "output_type": "execute_result"
    }
   ],
   "source": [
    "# Step 2: Load the dataset\n",
    "df = pd.read_csv(\"product.csv\")\n",
    "df.head()"
   ]
  },
  {
   "cell_type": "code",
   "execution_count": 17,
   "id": "c852fd4e-c896-4f07-a729-d8bb0d2adb2f",
   "metadata": {},
   "outputs": [
    {
     "data": {
      "text/html": [
       "<div>\n",
       "<style scoped>\n",
       "    .dataframe tbody tr th:only-of-type {\n",
       "        vertical-align: middle;\n",
       "    }\n",
       "\n",
       "    .dataframe tbody tr th {\n",
       "        vertical-align: top;\n",
       "    }\n",
       "\n",
       "    .dataframe thead th {\n",
       "        text-align: right;\n",
       "    }\n",
       "</style>\n",
       "<table border=\"1\" class=\"dataframe\">\n",
       "  <thead>\n",
       "    <tr style=\"text-align: right;\">\n",
       "      <th>Preferred Product</th>\n",
       "      <th>Product A</th>\n",
       "      <th>Product B</th>\n",
       "    </tr>\n",
       "    <tr>\n",
       "      <th>Gender</th>\n",
       "      <th></th>\n",
       "      <th></th>\n",
       "    </tr>\n",
       "  </thead>\n",
       "  <tbody>\n",
       "    <tr>\n",
       "      <th>Female</th>\n",
       "      <td>2</td>\n",
       "      <td>4</td>\n",
       "    </tr>\n",
       "    <tr>\n",
       "      <th>Male</th>\n",
       "      <td>4</td>\n",
       "      <td>2</td>\n",
       "    </tr>\n",
       "  </tbody>\n",
       "</table>\n",
       "</div>"
      ],
      "text/plain": [
       "Preferred Product  Product A  Product B\n",
       "Gender                                 \n",
       "Female                     2          4\n",
       "Male                       4          2"
      ]
     },
     "execution_count": 17,
     "metadata": {},
     "output_type": "execute_result"
    }
   ],
   "source": [
    "# Step 3: Create a contingency table\n",
    "contingency_table = pd.crosstab(df[\"Gender\"], df[\"Preferred Product\"]) #shows how many people fall into each category combination.\n",
    "contingency_table"
   ]
  },
  {
   "cell_type": "code",
   "execution_count": 29,
   "id": "27a8eeda-aadd-4170-8a90-fc92f1e49746",
   "metadata": {},
   "outputs": [
    {
     "name": "stdout",
     "output_type": "stream",
     "text": [
      "Gender\n",
      "Female    6\n",
      "Male      6\n",
      "dtype: int64\n",
      "Preferred Product\n",
      "Product A    6\n",
      "Product B    6\n",
      "dtype: int64\n",
      "12\n"
     ]
    }
   ],
   "source": [
    "# Step 4: Calculate row and column totals\n",
    "row_totals = contingency_table.sum(axis=1)\n",
    "col_totals = contingency_table.sum(axis=0)\n",
    "grand_total = contingency_table.values.sum()\n",
    "print(row_totals)\n",
    "print(col_totals)\n",
    "print(grand_total)"
   ]
  },
  {
   "cell_type": "code",
   "execution_count": 33,
   "id": "cb060bac-89cb-4192-abf0-7347c94d9c81",
   "metadata": {},
   "outputs": [
    {
     "data": {
      "text/plain": [
       "array([[3., 3.],\n",
       "       [3., 3.]])"
      ]
     },
     "execution_count": 33,
     "metadata": {},
     "output_type": "execute_result"
    }
   ],
   "source": [
    "# Step 5: Compute expected frequencies manually\n",
    "expected_frequencies = np.outer(row_totals, col_totals) / grand_total\n",
    "expected_frequencies"
   ]
  },
  {
   "cell_type": "code",
   "execution_count": 37,
   "id": "cab56d72-43fb-41fe-b181-a75af034ff35",
   "metadata": {},
   "outputs": [
    {
     "data": {
      "text/plain": [
       "1.3333333333333333"
      ]
     },
     "execution_count": 37,
     "metadata": {},
     "output_type": "execute_result"
    }
   ],
   "source": [
    "# Step 6: Compute the Chi-Square statistic manually\n",
    "chi_square_statistic = ((contingency_table - expected_frequencies) ** 2 / expected_frequencies).sum().sum()\n",
    "chi_square_statistic"
   ]
  },
  {
   "cell_type": "code",
   "execution_count": 41,
   "id": "9225adbe-8178-4901-903f-f4105ce8be45",
   "metadata": {},
   "outputs": [
    {
     "data": {
      "text/plain": [
       "0.24821307898992362"
      ]
     },
     "execution_count": 41,
     "metadata": {},
     "output_type": "execute_result"
    }
   ],
   "source": [
    "# Step 7: Compute p-value manually\n",
    "dof = (contingency_table.shape[0] - 1) * (contingency_table.shape[1] - 1)\n",
    "p_value = 1 - chi2.cdf(chi_square_statistic, df=dof)\n",
    "p_value"
   ]
  },
  {
   "cell_type": "code",
   "execution_count": 43,
   "id": "ee66cdff-469f-4719-933b-19648ec519b1",
   "metadata": {},
   "outputs": [
    {
     "name": "stdout",
     "output_type": "stream",
     "text": [
      "Observed Frequency Table:\n",
      "Preferred Product  Product A  Product B\n",
      "Gender                                 \n",
      "Female                     2          4\n",
      "Male                       4          2\n",
      "\n",
      "Expected Frequencies (Calculated Manually):\n",
      "Preferred Product  Product A  Product B\n",
      "Gender                                 \n",
      "Female                   3.0        3.0\n",
      "Male                     3.0        3.0\n",
      "\n",
      "Manual Chi-square Statistic: 1.33\n",
      "P-value (Calculated Manually): 0.2482\n",
      "Degrees of Freedom: 1\n"
     ]
    }
   ],
   "source": [
    "# Step 8: Display observed and expected frequencies\n",
    "print(\"Observed Frequency Table:\")\n",
    "print(contingency_table)\n",
    "\n",
    "print(\"\\nExpected Frequencies (Calculated Manually):\")\n",
    "expected_df = pd.DataFrame(expected_frequencies, columns=contingency_table.columns, index=contingency_table.index)\n",
    "print(expected_df)\n",
    "\n",
    "# Step 9: Display test statistic\n",
    "print(\"\\nManual Chi-square Statistic:\", round(chi_square_statistic, 2))\n",
    "print(\"P-value (Calculated Manually):\", round(p_value, 4))\n",
    "print(\"Degrees of Freedom:\", dof)"
   ]
  },
  {
   "cell_type": "code",
   "execution_count": 45,
   "id": "b6ee649a-68a6-4e21-910f-44136929f1e3",
   "metadata": {},
   "outputs": [
    {
     "name": "stdout",
     "output_type": "stream",
     "text": [
      "\n",
      "We fail to reject the null hypothesis. Gender does not significantly influence product preference.\n"
     ]
    }
   ],
   "source": [
    "# Step 10: Interpretation\n",
    "alpha = 0.05\n",
    "if p_value < alpha:\n",
    "    print(\"\\nWe reject the null hypothesis. Gender influences product preference.\")\n",
    "else:\n",
    "    print(\"\\nWe fail to reject the null hypothesis. Gender does not significantly influence product preference.\")\n"
   ]
  },
  {
   "cell_type": "code",
   "execution_count": null,
   "id": "ca9bd97a-9cb3-4034-b5c3-69db11ecfbbf",
   "metadata": {},
   "outputs": [],
   "source": []
  }
 ],
 "metadata": {
  "kernelspec": {
   "display_name": "Python [conda env:base] *",
   "language": "python",
   "name": "conda-base-py"
  },
  "language_info": {
   "codemirror_mode": {
    "name": "ipython",
    "version": 3
   },
   "file_extension": ".py",
   "mimetype": "text/x-python",
   "name": "python",
   "nbconvert_exporter": "python",
   "pygments_lexer": "ipython3",
   "version": "3.12.7"
  }
 },
 "nbformat": 4,
 "nbformat_minor": 5
}
