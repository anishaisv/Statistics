{
 "cells": [
  {
   "cell_type": "code",
   "execution_count": 4,
   "id": "d03c4267-d989-43a1-97de-bc1b882de8f2",
   "metadata": {},
   "outputs": [
    {
     "name": "stdout",
     "output_type": "stream",
     "text": [
      "Observed Frequency Table:\n",
      "Preferred Product  Product A  Product B\n",
      "Gender                                 \n",
      "Female                     2          4\n",
      "Male                       4          2\n",
      "\n",
      "Expected Frequencies (Calculated Automatically):\n",
      "Preferred Product  Product A  Product B\n",
      "Gender                                 \n",
      "Female                   3.0        3.0\n",
      "Male                     3.0        3.0\n",
      "\n",
      "Chi-square Statistic: 1.33\n",
      "P-value: 0.2482\n",
      "Degrees of Freedom: 1\n",
      "\n",
      "We fail to reject the null hypothesis. Gender does not significantly influence product preference.\n"
     ]
    }
   ],
   "source": [
    "# %load test2.py\n",
    "# Step 1: Import necessary libraries\n",
    "import pandas as pd\n",
    "import numpy as np\n",
    "from scipy.stats import chi2_contingency\n",
    "\n",
    "# Step 2: Load the dataset\n",
    "df = pd.read_csv(\"product.csv\")  # Ensure the CSV file is in the correct directory\n",
    "\n",
    "# Step 3: Create a contingency table\n",
    "contingency_table = pd.crosstab(df[\"Gender\"], df[\"Preferred Product\"])\n",
    "\n",
    "# Step 4: Perform the Chi-Square Test automatically (without Yates' correction)\n",
    "chi2_stat, p_value, dof, expected = chi2_contingency(contingency_table, correction=False)\n",
    "\n",
    "# Step 5: Display observed and expected frequencies\n",
    "print(\"Observed Frequency Table:\")\n",
    "print(contingency_table)\n",
    "\n",
    "print(\"\\nExpected Frequencies (Calculated Automatically):\")\n",
    "expected_df = pd.DataFrame(expected, columns=contingency_table.columns, index=contingency_table.index)\n",
    "print(expected_df)\n",
    "\n",
    "# Step 6: Display test statistics\n",
    "print(\"\\nChi-square Statistic:\", round(chi2_stat, 2))\n",
    "print(\"P-value:\", round(p_value, 4))\n",
    "print(\"Degrees of Freedom:\", dof)\n",
    "\n",
    "# Step 7: Interpretation\n",
    "alpha = 0.05\n",
    "if p_value < alpha:\n",
    "    print(\"\\nWe reject the null hypothesis. Gender influences product preference.\")\n",
    "else:\n",
    "    print(\"\\nWe fail to reject the null hypothesis. Gender does not significantly influence product preference.\")\n"
   ]
  },
  {
   "cell_type": "code",
   "execution_count": null,
   "id": "5ceeda97-4f22-4721-9d95-14f8363809e8",
   "metadata": {},
   "outputs": [],
   "source": []
  },
  {
   "cell_type": "code",
   "execution_count": null,
   "id": "c0acf84e-3d6f-4471-9400-d5e0a5e3cd87",
   "metadata": {},
   "outputs": [],
   "source": []
  }
 ],
 "metadata": {
  "kernelspec": {
   "display_name": "Python [conda env:base] *",
   "language": "python",
   "name": "conda-base-py"
  },
  "language_info": {
   "codemirror_mode": {
    "name": "ipython",
    "version": 3
   },
   "file_extension": ".py",
   "mimetype": "text/x-python",
   "name": "python",
   "nbconvert_exporter": "python",
   "pygments_lexer": "ipython3",
   "version": "3.12.7"
  }
 },
 "nbformat": 4,
 "nbformat_minor": 5
}
