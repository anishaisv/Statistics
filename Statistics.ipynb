{
 "cells": [
  {
   "cell_type": "code",
   "execution_count": null,
   "id": "cc64ab0a-88a5-41e0-abf2-f159e8c85cb9",
   "metadata": {},
   "outputs": [],
   "source": [
    "#import Statistics (inorder to apply statistics import this library)\n",
    "#import pandas (inorder to access\n",
    "its a process now # once it is no longer csv its a dataframe. so dframne.load file using readcsv, pushing into dataframe\n",
    "statistics can be applied on numerical only. so minimize only number cells. gender and class are not numbers. describe .. thisn shows all details descibe dataset.we can see missing numbers in\n",
    "25% data avefrage age group is between 21-32, \n",
    "check with statistics always wen u get a data. complete data. evenly balanced.\n",
    "info function gives clear understanding about dataset\n",
    "exclude gender and class. common factor is object. u can see in info. \n",
    "so exclude objects and create a new frame.\n",
    "to see the mean values ,numfields.mean(), numfields['height].mean() or numfields.height.mean() , statistics.mean(numfields['height])  inbuilt statistics\n",
    "read about Harmonic mean, geometric mean,... reciprocal of \n",
    "similarly mode,sd,median\n",
    "variance:squared difference, how far it is from mean, equally spreaded. square root of variance is sd.\n",
    "skewness: how data is distributed. kind of plot is density plot. less thatn 40 yrs old. 40 is mean.most values are before 40. \n",
    "negativ, positive skewing"
   ]
  },
  {
   "cell_type": "code",
   "execution_count": 1,
   "id": "49208087-4882-47b1-9597-95a130ea9891",
   "metadata": {},
   "outputs": [],
   "source": [
    "import statistics\n",
    "import pandas\n"
   ]
  },
  {
   "cell_type": "code",
   "execution_count": null,
   "id": "1fa9cf1a-9da7-4fad-8c29-5e1edf04b2f2",
   "metadata": {},
   "outputs": [],
   "source": []
  }
 ],
 "metadata": {
  "kernelspec": {
   "display_name": "Python [conda env:base] *",
   "language": "python",
   "name": "conda-base-py"
  },
  "language_info": {
   "codemirror_mode": {
    "name": "ipython",
    "version": 3
   },
   "file_extension": ".py",
   "mimetype": "text/x-python",
   "name": "python",
   "nbconvert_exporter": "python",
   "pygments_lexer": "ipython3",
   "version": "3.12.7"
  }
 },
 "nbformat": 4,
 "nbformat_minor": 5
}
